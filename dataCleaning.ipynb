{
 "metadata": {
  "language_info": {
   "codemirror_mode": {
    "name": "ipython",
    "version": 3
   },
   "file_extension": ".py",
   "mimetype": "text/x-python",
   "name": "python",
   "nbconvert_exporter": "python",
   "pygments_lexer": "ipython3",
   "version": "3.8.5"
  },
  "orig_nbformat": 4,
  "kernelspec": {
   "name": "python3",
   "display_name": "Python 3.8.5 64-bit ('base': conda)"
  },
  "interpreter": {
   "hash": "9908ad45e85bb90f9d5e2502f82c2048ee2ba5cb75185e06ffb66cc9c82691f7"
  }
 },
 "nbformat": 4,
 "nbformat_minor": 2,
 "cells": [
  {
   "cell_type": "code",
   "execution_count": 54,
   "metadata": {},
   "outputs": [],
   "source": [
    "import os\n",
    "import shutil\n",
    "import pandas as pd"
   ]
  },
  {
   "cell_type": "code",
   "execution_count": 61,
   "metadata": {},
   "outputs": [
    {
     "output_type": "execute_result",
     "data": {
      "text/plain": [
       "              img_name features left_eye_x left_eye_y right_eye_x right_eye_y  \\\n",
       "0     00000001_000.jpg        9        175        160         239         162   \n",
       "1     00000001_005.jpg        9         96         96         153         127   \n",
       "2     00000001_008.jpg        9        318        222         340         224   \n",
       "3     00000001_011.jpg        9        167        173         242         185   \n",
       "4     00000001_012.jpg        9        115        122         179         121   \n",
       "...                ...      ...        ...        ...         ...         ...   \n",
       "9992  00001499_017.jpg        9        178        174         213         181   \n",
       "9993  00001499_021.jpg        9        256        131         288         131   \n",
       "9994  00001499_024.jpg        9        178        333         227         336   \n",
       "9995  00001499_025.jpg        9        261        135         362         139   \n",
       "9996  00001499_028.jpg        9        146        159         243         143   \n",
       "\n",
       "     mouth_x mouth_y left_ear_1_x left_ear_1_y left_ear_2_x left_ear_2_y  \\\n",
       "0        199     199          149          121          137           78   \n",
       "1        103     146           48           20           78          -37   \n",
       "2        327     238          301          199          304          182   \n",
       "3        191     247          112          105          118            0   \n",
       "4        133     169           95           70           93           17   \n",
       "...      ...     ...          ...          ...          ...          ...   \n",
       "9992     190     204          152          154          160          109   \n",
       "9993     274     158          246          106          235           83   \n",
       "9994     200     375          151          300          152          252   \n",
       "9995     310     220          200           97          194          -13   \n",
       "9996     203     223           82          134           66            6   \n",
       "\n",
       "     left_ear_3_x left_ear_3_y right_ear_1_x right_ear_1_y right_ear_2_x  \\\n",
       "0             166           93           281           101           312   \n",
       "1             127            5           210            52           260   \n",
       "2             321          196           341           197           359   \n",
       "3             171           74           270            90           353   \n",
       "4             131           46           233            39           281   \n",
       "...           ...          ...           ...           ...           ...   \n",
       "9992          186          141           216           147           253   \n",
       "9993          259           97           290            97           318   \n",
       "9994          185          289           222           291           260   \n",
       "9995          271           52           355            57           443   \n",
       "9996          146           68           214            58           278   \n",
       "\n",
       "     right_ear_2_y right_ear_3_x right_ear_3_y  \n",
       "0               96           296           133  \n",
       "1               63           229           121  \n",
       "2              183           361           203  \n",
       "3               35           332           147  \n",
       "4                9           224            69  \n",
       "...            ...           ...           ...  \n",
       "9992           129           242           173  \n",
       "9993            80           292           106  \n",
       "9994           257           253           306  \n",
       "9995             1           417           109  \n",
       "9996           -41           298            98  \n",
       "\n",
       "[9997 rows x 20 columns]"
      ],
      "text/html": "<div>\n<style scoped>\n    .dataframe tbody tr th:only-of-type {\n        vertical-align: middle;\n    }\n\n    .dataframe tbody tr th {\n        vertical-align: top;\n    }\n\n    .dataframe thead th {\n        text-align: right;\n    }\n</style>\n<table border=\"1\" class=\"dataframe\">\n  <thead>\n    <tr style=\"text-align: right;\">\n      <th></th>\n      <th>img_name</th>\n      <th>features</th>\n      <th>left_eye_x</th>\n      <th>left_eye_y</th>\n      <th>right_eye_x</th>\n      <th>right_eye_y</th>\n      <th>mouth_x</th>\n      <th>mouth_y</th>\n      <th>left_ear_1_x</th>\n      <th>left_ear_1_y</th>\n      <th>left_ear_2_x</th>\n      <th>left_ear_2_y</th>\n      <th>left_ear_3_x</th>\n      <th>left_ear_3_y</th>\n      <th>right_ear_1_x</th>\n      <th>right_ear_1_y</th>\n      <th>right_ear_2_x</th>\n      <th>right_ear_2_y</th>\n      <th>right_ear_3_x</th>\n      <th>right_ear_3_y</th>\n    </tr>\n  </thead>\n  <tbody>\n    <tr>\n      <th>0</th>\n      <td>00000001_000.jpg</td>\n      <td>9</td>\n      <td>175</td>\n      <td>160</td>\n      <td>239</td>\n      <td>162</td>\n      <td>199</td>\n      <td>199</td>\n      <td>149</td>\n      <td>121</td>\n      <td>137</td>\n      <td>78</td>\n      <td>166</td>\n      <td>93</td>\n      <td>281</td>\n      <td>101</td>\n      <td>312</td>\n      <td>96</td>\n      <td>296</td>\n      <td>133</td>\n    </tr>\n    <tr>\n      <th>1</th>\n      <td>00000001_005.jpg</td>\n      <td>9</td>\n      <td>96</td>\n      <td>96</td>\n      <td>153</td>\n      <td>127</td>\n      <td>103</td>\n      <td>146</td>\n      <td>48</td>\n      <td>20</td>\n      <td>78</td>\n      <td>-37</td>\n      <td>127</td>\n      <td>5</td>\n      <td>210</td>\n      <td>52</td>\n      <td>260</td>\n      <td>63</td>\n      <td>229</td>\n      <td>121</td>\n    </tr>\n    <tr>\n      <th>2</th>\n      <td>00000001_008.jpg</td>\n      <td>9</td>\n      <td>318</td>\n      <td>222</td>\n      <td>340</td>\n      <td>224</td>\n      <td>327</td>\n      <td>238</td>\n      <td>301</td>\n      <td>199</td>\n      <td>304</td>\n      <td>182</td>\n      <td>321</td>\n      <td>196</td>\n      <td>341</td>\n      <td>197</td>\n      <td>359</td>\n      <td>183</td>\n      <td>361</td>\n      <td>203</td>\n    </tr>\n    <tr>\n      <th>3</th>\n      <td>00000001_011.jpg</td>\n      <td>9</td>\n      <td>167</td>\n      <td>173</td>\n      <td>242</td>\n      <td>185</td>\n      <td>191</td>\n      <td>247</td>\n      <td>112</td>\n      <td>105</td>\n      <td>118</td>\n      <td>0</td>\n      <td>171</td>\n      <td>74</td>\n      <td>270</td>\n      <td>90</td>\n      <td>353</td>\n      <td>35</td>\n      <td>332</td>\n      <td>147</td>\n    </tr>\n    <tr>\n      <th>4</th>\n      <td>00000001_012.jpg</td>\n      <td>9</td>\n      <td>115</td>\n      <td>122</td>\n      <td>179</td>\n      <td>121</td>\n      <td>133</td>\n      <td>169</td>\n      <td>95</td>\n      <td>70</td>\n      <td>93</td>\n      <td>17</td>\n      <td>131</td>\n      <td>46</td>\n      <td>233</td>\n      <td>39</td>\n      <td>281</td>\n      <td>9</td>\n      <td>224</td>\n      <td>69</td>\n    </tr>\n    <tr>\n      <th>...</th>\n      <td>...</td>\n      <td>...</td>\n      <td>...</td>\n      <td>...</td>\n      <td>...</td>\n      <td>...</td>\n      <td>...</td>\n      <td>...</td>\n      <td>...</td>\n      <td>...</td>\n      <td>...</td>\n      <td>...</td>\n      <td>...</td>\n      <td>...</td>\n      <td>...</td>\n      <td>...</td>\n      <td>...</td>\n      <td>...</td>\n      <td>...</td>\n      <td>...</td>\n    </tr>\n    <tr>\n      <th>9992</th>\n      <td>00001499_017.jpg</td>\n      <td>9</td>\n      <td>178</td>\n      <td>174</td>\n      <td>213</td>\n      <td>181</td>\n      <td>190</td>\n      <td>204</td>\n      <td>152</td>\n      <td>154</td>\n      <td>160</td>\n      <td>109</td>\n      <td>186</td>\n      <td>141</td>\n      <td>216</td>\n      <td>147</td>\n      <td>253</td>\n      <td>129</td>\n      <td>242</td>\n      <td>173</td>\n    </tr>\n    <tr>\n      <th>9993</th>\n      <td>00001499_021.jpg</td>\n      <td>9</td>\n      <td>256</td>\n      <td>131</td>\n      <td>288</td>\n      <td>131</td>\n      <td>274</td>\n      <td>158</td>\n      <td>246</td>\n      <td>106</td>\n      <td>235</td>\n      <td>83</td>\n      <td>259</td>\n      <td>97</td>\n      <td>290</td>\n      <td>97</td>\n      <td>318</td>\n      <td>80</td>\n      <td>292</td>\n      <td>106</td>\n    </tr>\n    <tr>\n      <th>9994</th>\n      <td>00001499_024.jpg</td>\n      <td>9</td>\n      <td>178</td>\n      <td>333</td>\n      <td>227</td>\n      <td>336</td>\n      <td>200</td>\n      <td>375</td>\n      <td>151</td>\n      <td>300</td>\n      <td>152</td>\n      <td>252</td>\n      <td>185</td>\n      <td>289</td>\n      <td>222</td>\n      <td>291</td>\n      <td>260</td>\n      <td>257</td>\n      <td>253</td>\n      <td>306</td>\n    </tr>\n    <tr>\n      <th>9995</th>\n      <td>00001499_025.jpg</td>\n      <td>9</td>\n      <td>261</td>\n      <td>135</td>\n      <td>362</td>\n      <td>139</td>\n      <td>310</td>\n      <td>220</td>\n      <td>200</td>\n      <td>97</td>\n      <td>194</td>\n      <td>-13</td>\n      <td>271</td>\n      <td>52</td>\n      <td>355</td>\n      <td>57</td>\n      <td>443</td>\n      <td>1</td>\n      <td>417</td>\n      <td>109</td>\n    </tr>\n    <tr>\n      <th>9996</th>\n      <td>00001499_028.jpg</td>\n      <td>9</td>\n      <td>146</td>\n      <td>159</td>\n      <td>243</td>\n      <td>143</td>\n      <td>203</td>\n      <td>223</td>\n      <td>82</td>\n      <td>134</td>\n      <td>66</td>\n      <td>6</td>\n      <td>146</td>\n      <td>68</td>\n      <td>214</td>\n      <td>58</td>\n      <td>278</td>\n      <td>-41</td>\n      <td>298</td>\n      <td>98</td>\n    </tr>\n  </tbody>\n</table>\n<p>9997 rows × 20 columns</p>\n</div>"
     },
     "metadata": {},
     "execution_count": 61
    }
   ],
   "source": [
    "columnNames = ['img_name', 'features', 'left_eye_x', 'left_eye_y', \n",
    "               'right_eye_x', 'right_eye_y',\n",
    "               'mouth_x', 'mouth_y', 'left_ear_1_x', 'left_ear_1_y',\n",
    "               'left_ear_2_x', 'left_ear_2_y', 'left_ear_3_x', 'left_ear_3_y',\n",
    "               'right_ear_1_x', 'right_ear_1_y', 'right_ear_2_x', 'right_ear_2_y',\n",
    "               'right_ear_3_x', 'right_ear_3_y']\n",
    "df = pd.DataFrame([], columns=columnNames)\n",
    "\n",
    "\n",
    "def readFiles(directory, df):\n",
    "    for filename in os.listdir(directory):\n",
    "        if filename.endswith('.jpg'):\n",
    "            #Save image into new directory\n",
    "            shutil.move(directory+filename, 'cats/'+filename)\n",
    "        elif filename.endswith('.cat'):\n",
    "            #Read label and insert into dataframe\n",
    "            img_name = os.path.splitext(filename)[0]\n",
    "            with open(directory + filename) as f:\n",
    "                content = f.read()\n",
    "                content = content.split(' ')\n",
    "                content.pop(-1)\n",
    "                if int(content[0]) == 9:\n",
    "                    for i in range(0, len(content)):\n",
    "                        content[i] = int(content[i])\n",
    "                content.insert(0, img_name)\n",
    "                content = pd.Series(content, index=columnNames)\n",
    "                df = df.append(content, ignore_index=True)\n",
    "    return df\n",
    "\n",
    "for folder in os.listdir('archive/'):\n",
    "    df = readFiles('archive/' + folder + '/', df)\n",
    "\n",
    "df"
   ]
  },
  {
   "cell_type": "code",
   "execution_count": 64,
   "metadata": {},
   "outputs": [],
   "source": [
    "#Save dataframe as CSV\n",
    "df.to_csv('labelled_data.csv',index=False)"
   ]
  },
  {
   "cell_type": "code",
   "execution_count": null,
   "metadata": {},
   "outputs": [],
   "source": []
  }
 ]
}