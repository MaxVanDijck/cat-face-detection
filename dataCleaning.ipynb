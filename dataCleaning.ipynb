{
 "metadata": {
  "language_info": {
   "codemirror_mode": {
    "name": "ipython",
    "version": 3
   },
   "file_extension": ".py",
   "mimetype": "text/x-python",
   "name": "python",
   "nbconvert_exporter": "python",
   "pygments_lexer": "ipython3",
   "version": "3.8.5"
  },
  "orig_nbformat": 4,
  "kernelspec": {
   "name": "python3",
   "display_name": "Python 3.8.5 64-bit ('base': conda)"
  },
  "interpreter": {
   "hash": "9908ad45e85bb90f9d5e2502f82c2048ee2ba5cb75185e06ffb66cc9c82691f7"
  }
 },
 "nbformat": 4,
 "nbformat_minor": 2,
 "cells": [
  {
   "cell_type": "code",
   "execution_count": 54,
   "metadata": {},
   "outputs": [],
   "source": [
    "import os\n",
    "import shutil\n",
    "import pandas as pd"
   ]
  },
  {
   "cell_type": "code",
   "execution_count": 58,
   "metadata": {},
   "outputs": [
    {
     "output_type": "execute_result",
     "data": {
      "text/plain": [
       "              img_name features left_eye_x left_eye_y right_eye_x right_eye_y  \\\n",
       "0     00000001_000.jpg        9        175        160         239         162   \n",
       "1     00000001_005.jpg        9         96         96         153         127   \n",
       "2     00000001_008.jpg        9        318        222         340         224   \n",
       "3     00000001_011.jpg        9        167        173         242         185   \n",
       "4     00000001_012.jpg        9        115        122         179         121   \n",
       "...                ...      ...        ...        ...         ...         ...   \n",
       "1701  00000455_015.jpg        9        155        245         221         249   \n",
       "1702  00000455_016.jpg        9        113        138         164         132   \n",
       "1703  00000455_017.jpg        9        187         93         248          89   \n",
       "1704  00000455_026.jpg        9        435        203         520         252   \n",
       "1705  00000455_027.jpg        9        410        466         596         478   \n",
       "\n",
       "     mouth_x mouth_y left_ear_1_x left_ear_1_y left_ear_2_x left_ear_2_y  \\\n",
       "0        199     199          149          121          137           78   \n",
       "1        103     146           48           20           78          -37   \n",
       "2        327     238          301          199          304          182   \n",
       "3        191     247          112          105          118            0   \n",
       "4        133     169           95           70           93           17   \n",
       "...      ...     ...          ...          ...          ...          ...   \n",
       "1701     188     304          108          207          111          138   \n",
       "1702     154     176           64          122           54           62   \n",
       "1703     219     135          153           86          140           15   \n",
       "1704     439     309          395          116          454           31   \n",
       "1705     497     634          310          361          289          207   \n",
       "\n",
       "     left_ear_3_x left_ear_3_y right_ear_1_x right_ear_1_y right_ear_2_x  \\\n",
       "0             166           93           281           101           312   \n",
       "1             127            5           210            52           260   \n",
       "2             321          196           341           197           359   \n",
       "3             171           74           270            90           353   \n",
       "4             131           46           233            39           281   \n",
       "...           ...          ...           ...           ...           ...   \n",
       "1701          159          179           217           182           268   \n",
       "1702          102           95           146            91           180   \n",
       "1703          190           49           240            46           288   \n",
       "1704          489          122           561           165           656   \n",
       "1705          432          307           588           319           758   \n",
       "\n",
       "     right_ear_2_y right_ear_3_x right_ear_3_y  \n",
       "0               96           296           133  \n",
       "1               63           229           121  \n",
       "2              183           361           203  \n",
       "3               35           332           147  \n",
       "4                9           224            69  \n",
       "...            ...           ...           ...  \n",
       "1701           140           249           216  \n",
       "1702            49           173           112  \n",
       "1703             6           282            75  \n",
       "1704           173           584           225  \n",
       "1705           251           683           389  \n",
       "\n",
       "[1706 rows x 20 columns]"
      ],
      "text/html": "<div>\n<style scoped>\n    .dataframe tbody tr th:only-of-type {\n        vertical-align: middle;\n    }\n\n    .dataframe tbody tr th {\n        vertical-align: top;\n    }\n\n    .dataframe thead th {\n        text-align: right;\n    }\n</style>\n<table border=\"1\" class=\"dataframe\">\n  <thead>\n    <tr style=\"text-align: right;\">\n      <th></th>\n      <th>img_name</th>\n      <th>features</th>\n      <th>left_eye_x</th>\n      <th>left_eye_y</th>\n      <th>right_eye_x</th>\n      <th>right_eye_y</th>\n      <th>mouth_x</th>\n      <th>mouth_y</th>\n      <th>left_ear_1_x</th>\n      <th>left_ear_1_y</th>\n      <th>left_ear_2_x</th>\n      <th>left_ear_2_y</th>\n      <th>left_ear_3_x</th>\n      <th>left_ear_3_y</th>\n      <th>right_ear_1_x</th>\n      <th>right_ear_1_y</th>\n      <th>right_ear_2_x</th>\n      <th>right_ear_2_y</th>\n      <th>right_ear_3_x</th>\n      <th>right_ear_3_y</th>\n    </tr>\n  </thead>\n  <tbody>\n    <tr>\n      <th>0</th>\n      <td>00000001_000.jpg</td>\n      <td>9</td>\n      <td>175</td>\n      <td>160</td>\n      <td>239</td>\n      <td>162</td>\n      <td>199</td>\n      <td>199</td>\n      <td>149</td>\n      <td>121</td>\n      <td>137</td>\n      <td>78</td>\n      <td>166</td>\n      <td>93</td>\n      <td>281</td>\n      <td>101</td>\n      <td>312</td>\n      <td>96</td>\n      <td>296</td>\n      <td>133</td>\n    </tr>\n    <tr>\n      <th>1</th>\n      <td>00000001_005.jpg</td>\n      <td>9</td>\n      <td>96</td>\n      <td>96</td>\n      <td>153</td>\n      <td>127</td>\n      <td>103</td>\n      <td>146</td>\n      <td>48</td>\n      <td>20</td>\n      <td>78</td>\n      <td>-37</td>\n      <td>127</td>\n      <td>5</td>\n      <td>210</td>\n      <td>52</td>\n      <td>260</td>\n      <td>63</td>\n      <td>229</td>\n      <td>121</td>\n    </tr>\n    <tr>\n      <th>2</th>\n      <td>00000001_008.jpg</td>\n      <td>9</td>\n      <td>318</td>\n      <td>222</td>\n      <td>340</td>\n      <td>224</td>\n      <td>327</td>\n      <td>238</td>\n      <td>301</td>\n      <td>199</td>\n      <td>304</td>\n      <td>182</td>\n      <td>321</td>\n      <td>196</td>\n      <td>341</td>\n      <td>197</td>\n      <td>359</td>\n      <td>183</td>\n      <td>361</td>\n      <td>203</td>\n    </tr>\n    <tr>\n      <th>3</th>\n      <td>00000001_011.jpg</td>\n      <td>9</td>\n      <td>167</td>\n      <td>173</td>\n      <td>242</td>\n      <td>185</td>\n      <td>191</td>\n      <td>247</td>\n      <td>112</td>\n      <td>105</td>\n      <td>118</td>\n      <td>0</td>\n      <td>171</td>\n      <td>74</td>\n      <td>270</td>\n      <td>90</td>\n      <td>353</td>\n      <td>35</td>\n      <td>332</td>\n      <td>147</td>\n    </tr>\n    <tr>\n      <th>4</th>\n      <td>00000001_012.jpg</td>\n      <td>9</td>\n      <td>115</td>\n      <td>122</td>\n      <td>179</td>\n      <td>121</td>\n      <td>133</td>\n      <td>169</td>\n      <td>95</td>\n      <td>70</td>\n      <td>93</td>\n      <td>17</td>\n      <td>131</td>\n      <td>46</td>\n      <td>233</td>\n      <td>39</td>\n      <td>281</td>\n      <td>9</td>\n      <td>224</td>\n      <td>69</td>\n    </tr>\n    <tr>\n      <th>...</th>\n      <td>...</td>\n      <td>...</td>\n      <td>...</td>\n      <td>...</td>\n      <td>...</td>\n      <td>...</td>\n      <td>...</td>\n      <td>...</td>\n      <td>...</td>\n      <td>...</td>\n      <td>...</td>\n      <td>...</td>\n      <td>...</td>\n      <td>...</td>\n      <td>...</td>\n      <td>...</td>\n      <td>...</td>\n      <td>...</td>\n      <td>...</td>\n      <td>...</td>\n    </tr>\n    <tr>\n      <th>1701</th>\n      <td>00000455_015.jpg</td>\n      <td>9</td>\n      <td>155</td>\n      <td>245</td>\n      <td>221</td>\n      <td>249</td>\n      <td>188</td>\n      <td>304</td>\n      <td>108</td>\n      <td>207</td>\n      <td>111</td>\n      <td>138</td>\n      <td>159</td>\n      <td>179</td>\n      <td>217</td>\n      <td>182</td>\n      <td>268</td>\n      <td>140</td>\n      <td>249</td>\n      <td>216</td>\n    </tr>\n    <tr>\n      <th>1702</th>\n      <td>00000455_016.jpg</td>\n      <td>9</td>\n      <td>113</td>\n      <td>138</td>\n      <td>164</td>\n      <td>132</td>\n      <td>154</td>\n      <td>176</td>\n      <td>64</td>\n      <td>122</td>\n      <td>54</td>\n      <td>62</td>\n      <td>102</td>\n      <td>95</td>\n      <td>146</td>\n      <td>91</td>\n      <td>180</td>\n      <td>49</td>\n      <td>173</td>\n      <td>112</td>\n    </tr>\n    <tr>\n      <th>1703</th>\n      <td>00000455_017.jpg</td>\n      <td>9</td>\n      <td>187</td>\n      <td>93</td>\n      <td>248</td>\n      <td>89</td>\n      <td>219</td>\n      <td>135</td>\n      <td>153</td>\n      <td>86</td>\n      <td>140</td>\n      <td>15</td>\n      <td>190</td>\n      <td>49</td>\n      <td>240</td>\n      <td>46</td>\n      <td>288</td>\n      <td>6</td>\n      <td>282</td>\n      <td>75</td>\n    </tr>\n    <tr>\n      <th>1704</th>\n      <td>00000455_026.jpg</td>\n      <td>9</td>\n      <td>435</td>\n      <td>203</td>\n      <td>520</td>\n      <td>252</td>\n      <td>439</td>\n      <td>309</td>\n      <td>395</td>\n      <td>116</td>\n      <td>454</td>\n      <td>31</td>\n      <td>489</td>\n      <td>122</td>\n      <td>561</td>\n      <td>165</td>\n      <td>656</td>\n      <td>173</td>\n      <td>584</td>\n      <td>225</td>\n    </tr>\n    <tr>\n      <th>1705</th>\n      <td>00000455_027.jpg</td>\n      <td>9</td>\n      <td>410</td>\n      <td>466</td>\n      <td>596</td>\n      <td>478</td>\n      <td>497</td>\n      <td>634</td>\n      <td>310</td>\n      <td>361</td>\n      <td>289</td>\n      <td>207</td>\n      <td>432</td>\n      <td>307</td>\n      <td>588</td>\n      <td>319</td>\n      <td>758</td>\n      <td>251</td>\n      <td>683</td>\n      <td>389</td>\n    </tr>\n  </tbody>\n</table>\n<p>1706 rows × 20 columns</p>\n</div>"
     },
     "metadata": {},
     "execution_count": 58
    }
   ],
   "source": [
    "columnNames = ['img_name', 'features', 'left_eye_x', 'left_eye_y', \n",
    "               'right_eye_x', 'right_eye_y',\n",
    "               'mouth_x', 'mouth_y', 'left_ear_1_x', 'left_ear_1_y',\n",
    "               'left_ear_2_x', 'left_ear_2_y', 'left_ear_3_x', 'left_ear_3_y',\n",
    "               'right_ear_1_x', 'right_ear_1_y', 'right_ear_2_x', 'right_ear_2_y',\n",
    "               'right_ear_3_x', 'right_ear_3_y']\n",
    "\n",
    "labels = pd.DataFrame([], columns=columnNames)\n",
    "\n",
    "\n",
    "def readFiles(directory, df):\n",
    "    for filename in os.listdir(directory):\n",
    "        if filename.endswith('.jpg'):\n",
    "            #Save image into new directory\n",
    "            shutil.move(directory+filename, 'cats/'+filename)\n",
    "        elif filename.endswith('.cat'):\n",
    "            #Read label and insert into dataframe\n",
    "            img_name = os.path.splitext(filename)[0]\n",
    "            with open('archive/CAT_00/' + filename) as f:\n",
    "                content = f.read()\n",
    "                content = content.split(' ')\n",
    "                content.pop(-1)\n",
    "                if int(content[0]) == 9:\n",
    "                    for i in range(0, len(content)):\n",
    "                        content[i] = int(content[i])\n",
    "                content.insert(0, img_name)\n",
    "                content = pd.Series(content, index=columnNames)\n",
    "                df = df.append(content, ignore_index=True)\n",
    "    return df\n",
    "\n",
    "data = readFiles(directory='archive/CAT_00/', df=labels)\n",
    "data"
   ]
  },
  {
   "cell_type": "code",
   "execution_count": null,
   "metadata": {},
   "outputs": [],
   "source": []
  }
 ]
}