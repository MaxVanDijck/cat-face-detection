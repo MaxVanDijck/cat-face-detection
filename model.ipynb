{
 "metadata": {
  "language_info": {
   "codemirror_mode": {
    "name": "ipython",
    "version": 3
   },
   "file_extension": ".py",
   "mimetype": "text/x-python",
   "name": "python",
   "nbconvert_exporter": "python",
   "pygments_lexer": "ipython3",
   "version": "3.8.5"
  },
  "orig_nbformat": 4,
  "kernelspec": {
   "name": "python3",
   "display_name": "Python 3.8.5 64-bit ('base': conda)"
  },
  "interpreter": {
   "hash": "9908ad45e85bb90f9d5e2502f82c2048ee2ba5cb75185e06ffb66cc9c82691f7"
  }
 },
 "nbformat": 4,
 "nbformat_minor": 2,
 "cells": [
  {
   "cell_type": "code",
   "execution_count": 8,
   "metadata": {},
   "outputs": [],
   "source": [
    "import torch\n",
    "import torch.nn as nn\n",
    "import pandas as pd\n",
    "import numpy as np\n",
    "import matplotlib.pyplot as plt"
   ]
  },
  {
   "cell_type": "code",
   "execution_count": 5,
   "metadata": {},
   "outputs": [
    {
     "output_type": "execute_result",
     "data": {
      "text/plain": [
       "           img_name  features  left_eye_x  left_eye_y  right_eye_x  \\\n",
       "0  00000001_000.jpg         9         175         160          239   \n",
       "1  00000001_005.jpg         9          96          96          153   \n",
       "2  00000001_008.jpg         9         318         222          340   \n",
       "3  00000001_011.jpg         9         167         173          242   \n",
       "4  00000001_012.jpg         9         115         122          179   \n",
       "\n",
       "   right_eye_y  mouth_x  mouth_y  left_ear_1_x  left_ear_1_y  left_ear_2_x  \\\n",
       "0          162      199      199           149           121           137   \n",
       "1          127      103      146            48            20            78   \n",
       "2          224      327      238           301           199           304   \n",
       "3          185      191      247           112           105           118   \n",
       "4          121      133      169            95            70            93   \n",
       "\n",
       "   left_ear_2_y  left_ear_3_x  left_ear_3_y  right_ear_1_x  right_ear_1_y  \\\n",
       "0            78           166            93            281            101   \n",
       "1           -37           127             5            210             52   \n",
       "2           182           321           196            341            197   \n",
       "3             0           171            74            270             90   \n",
       "4            17           131            46            233             39   \n",
       "\n",
       "   right_ear_2_x  right_ear_2_y  right_ear_3_x  right_ear_3_y  \n",
       "0            312             96            296            133  \n",
       "1            260             63            229            121  \n",
       "2            359            183            361            203  \n",
       "3            353             35            332            147  \n",
       "4            281              9            224             69  "
      ],
      "text/html": "<div>\n<style scoped>\n    .dataframe tbody tr th:only-of-type {\n        vertical-align: middle;\n    }\n\n    .dataframe tbody tr th {\n        vertical-align: top;\n    }\n\n    .dataframe thead th {\n        text-align: right;\n    }\n</style>\n<table border=\"1\" class=\"dataframe\">\n  <thead>\n    <tr style=\"text-align: right;\">\n      <th></th>\n      <th>img_name</th>\n      <th>features</th>\n      <th>left_eye_x</th>\n      <th>left_eye_y</th>\n      <th>right_eye_x</th>\n      <th>right_eye_y</th>\n      <th>mouth_x</th>\n      <th>mouth_y</th>\n      <th>left_ear_1_x</th>\n      <th>left_ear_1_y</th>\n      <th>left_ear_2_x</th>\n      <th>left_ear_2_y</th>\n      <th>left_ear_3_x</th>\n      <th>left_ear_3_y</th>\n      <th>right_ear_1_x</th>\n      <th>right_ear_1_y</th>\n      <th>right_ear_2_x</th>\n      <th>right_ear_2_y</th>\n      <th>right_ear_3_x</th>\n      <th>right_ear_3_y</th>\n    </tr>\n  </thead>\n  <tbody>\n    <tr>\n      <th>0</th>\n      <td>00000001_000.jpg</td>\n      <td>9</td>\n      <td>175</td>\n      <td>160</td>\n      <td>239</td>\n      <td>162</td>\n      <td>199</td>\n      <td>199</td>\n      <td>149</td>\n      <td>121</td>\n      <td>137</td>\n      <td>78</td>\n      <td>166</td>\n      <td>93</td>\n      <td>281</td>\n      <td>101</td>\n      <td>312</td>\n      <td>96</td>\n      <td>296</td>\n      <td>133</td>\n    </tr>\n    <tr>\n      <th>1</th>\n      <td>00000001_005.jpg</td>\n      <td>9</td>\n      <td>96</td>\n      <td>96</td>\n      <td>153</td>\n      <td>127</td>\n      <td>103</td>\n      <td>146</td>\n      <td>48</td>\n      <td>20</td>\n      <td>78</td>\n      <td>-37</td>\n      <td>127</td>\n      <td>5</td>\n      <td>210</td>\n      <td>52</td>\n      <td>260</td>\n      <td>63</td>\n      <td>229</td>\n      <td>121</td>\n    </tr>\n    <tr>\n      <th>2</th>\n      <td>00000001_008.jpg</td>\n      <td>9</td>\n      <td>318</td>\n      <td>222</td>\n      <td>340</td>\n      <td>224</td>\n      <td>327</td>\n      <td>238</td>\n      <td>301</td>\n      <td>199</td>\n      <td>304</td>\n      <td>182</td>\n      <td>321</td>\n      <td>196</td>\n      <td>341</td>\n      <td>197</td>\n      <td>359</td>\n      <td>183</td>\n      <td>361</td>\n      <td>203</td>\n    </tr>\n    <tr>\n      <th>3</th>\n      <td>00000001_011.jpg</td>\n      <td>9</td>\n      <td>167</td>\n      <td>173</td>\n      <td>242</td>\n      <td>185</td>\n      <td>191</td>\n      <td>247</td>\n      <td>112</td>\n      <td>105</td>\n      <td>118</td>\n      <td>0</td>\n      <td>171</td>\n      <td>74</td>\n      <td>270</td>\n      <td>90</td>\n      <td>353</td>\n      <td>35</td>\n      <td>332</td>\n      <td>147</td>\n    </tr>\n    <tr>\n      <th>4</th>\n      <td>00000001_012.jpg</td>\n      <td>9</td>\n      <td>115</td>\n      <td>122</td>\n      <td>179</td>\n      <td>121</td>\n      <td>133</td>\n      <td>169</td>\n      <td>95</td>\n      <td>70</td>\n      <td>93</td>\n      <td>17</td>\n      <td>131</td>\n      <td>46</td>\n      <td>233</td>\n      <td>39</td>\n      <td>281</td>\n      <td>9</td>\n      <td>224</td>\n      <td>69</td>\n    </tr>\n  </tbody>\n</table>\n</div>"
     },
     "metadata": {},
     "execution_count": 5
    }
   ],
   "source": [
    "cat_df = pd.read_csv('labelled_data.csv')\n",
    "cat_df.head()"
   ]
  },
  {
   "cell_type": "code",
   "execution_count": 13,
   "metadata": {},
   "outputs": [
    {
     "output_type": "stream",
     "name": "stdout",
     "text": [
      "Image name: 00000001_027.jpg\nLandmarks shape: (9, 2)\nFirst 4 Landmarks: [[229. 142.]\n [273. 147.]\n [247. 171.]\n [210. 109.]]\n"
     ]
    }
   ],
   "source": [
    "n = 9\n",
    "img_name = cat_df.iloc[n, 0]\n",
    "points = cat_df.iloc[n, 2:]\n",
    "points = np.asarray(points)\n",
    "points = points.astype('float').reshape(-1, 2)\n",
    "\n",
    "print('Image name: {}'.format(img_name))\n",
    "print('Landmarks shape: {}'.format(points.shape))\n",
    "print('First 4 Landmarks: {}'.format(points[:4]))"
   ]
  },
  {
   "cell_type": "code",
   "execution_count": 14,
   "metadata": {},
   "outputs": [
    {
     "output_type": "error",
     "ename": "NameError",
     "evalue": "name 'plt' is not defined",
     "traceback": [
      "\u001b[1;31m---------------------------------------------------------------------------\u001b[0m",
      "\u001b[1;31mNameError\u001b[0m                                 Traceback (most recent call last)",
      "\u001b[1;32m<ipython-input-14-9b346f7aa013>\u001b[0m in \u001b[0;36m<module>\u001b[1;34m\u001b[0m\n\u001b[0;32m      5\u001b[0m     \u001b[0mplt\u001b[0m\u001b[1;33m.\u001b[0m\u001b[0mpause\u001b[0m\u001b[1;33m(\u001b[0m\u001b[1;36m0.001\u001b[0m\u001b[1;33m)\u001b[0m  \u001b[1;31m# pause a bit so that plots are updated\u001b[0m\u001b[1;33m\u001b[0m\u001b[1;33m\u001b[0m\u001b[0m\n\u001b[0;32m      6\u001b[0m \u001b[1;33m\u001b[0m\u001b[0m\n\u001b[1;32m----> 7\u001b[1;33m \u001b[0mplt\u001b[0m\u001b[1;33m.\u001b[0m\u001b[0mfigure\u001b[0m\u001b[1;33m(\u001b[0m\u001b[1;33m)\u001b[0m\u001b[1;33m\u001b[0m\u001b[1;33m\u001b[0m\u001b[0m\n\u001b[0m\u001b[0;32m      8\u001b[0m show_landmarks(io.imread(os.path.join('cats/', img_name)),\n\u001b[0;32m      9\u001b[0m                points)\n",
      "\u001b[1;31mNameError\u001b[0m: name 'plt' is not defined"
     ]
    }
   ],
   "source": [
    "def show_landmarks(image, landmarks):\n",
    "    \"\"\"Show image with landmarks\"\"\"\n",
    "    plt.imshow(image)\n",
    "    plt.scatter(points[:, 0], points[:, 1], s=10, marker='.', c='r')\n",
    "    plt.pause(0.001)  # pause a bit so that plots are updated\n",
    "\n",
    "plt.figure()\n",
    "show_landmarks(io.imread(os.path.join('cats/', img_name)),\n",
    "               points)\n",
    "plt.show()"
   ]
  },
  {
   "cell_type": "code",
   "execution_count": null,
   "metadata": {},
   "outputs": [],
   "source": []
  }
 ]
}